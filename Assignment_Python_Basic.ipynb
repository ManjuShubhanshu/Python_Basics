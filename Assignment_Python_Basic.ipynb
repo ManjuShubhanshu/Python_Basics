{
  "nbformat": 4,
  "nbformat_minor": 0,
  "metadata": {
    "colab": {
      "provenance": []
    },
    "kernelspec": {
      "name": "python3",
      "display_name": "Python 3"
    },
    "language_info": {
      "name": "python"
    }
  },
  "cells": [
    {
      "cell_type": "markdown",
      "source": [
        "1. What is Python, and why is it popular?\n",
        "\n",
        "   Python is a high-level, interpreted programming language known for its simplicity and readability. It is popular because of its easy syntax, large standard library, support for multiple programming paradigms, and its application in various fields like web development, data science, AI, and automation.\n",
        "\n",
        "2. What is an interpreter in Python?\n",
        "\n",
        "   An interpreter in Python is a program that executes code line by line, converting Python code into machine-understandable instructions at runtime.\n",
        "\n",
        "3. What are pre-defined keywords in Python?\n",
        "\n",
        "   Pre-defined keywords in Python are reserved words that have special meaning in the language syntax, such as if, else, while, for, def, return, etc. They cannot be used for variable names or identifiers.\n",
        "\n",
        "4. Can keywords be used as variable names?\n",
        "\n",
        "   No, keywords cannot be used as variable names in Python because they are reserved for specific syntax and functionality of the language.\n",
        "\n",
        "5. What is mutability in Python?\n",
        "\n",
        "   Mutability in Python refers to an object’s ability to be changed after it is created. Mutable objects (like lists) can be modified, while immutable objects (like tuples or strings) cannot be changed.\n",
        "\n",
        "6. Why are lists mutable, but tuples are immutable?\n",
        "\n",
        "   Lists are mutable because they are designed for dynamic data structures that may change over time. Tuples are immutable for safety, consistency, and performance, especially when used as keys in dictionaries.\n",
        "\n",
        "7. What is the difference between == and is operators in Python?\n",
        "\n",
        "   The == operator checks whether the values of two variables are equal, whereas the is operator checks whether the two variables refer to the same object in memory.\n",
        "\n",
        "8. What are logical operators in Python?\n",
        "\n",
        "   The logical operators in Python are:\n",
        "   \n",
        "   and – returns True if both conditions are True\n",
        "\n",
        "   or – returns True if at least one condition is True\n",
        "\n",
        "   not – returns True if the condition is False\n",
        "\n",
        "9. What is type casting in Python?\n",
        "\n",
        "   Type casting in Python is the process of converting one data type into another. For example, converting a string to an integer using int(\"123\"),Output will be 123(int type).\n",
        "\n",
        "10. What is the difference between implicit and explicit type casting?\n",
        "\n",
        "    Implicit type casting is automatically performed by Python when combining different data types, e.g., int + float gives a float.\n",
        "\n",
        "    Explicit type casting is done manually by the programmer using functions like int(), float(), and str().\n",
        "\n",
        "11. What is the purpose of conditional statements in Python?\n",
        "\n",
        "    Conditional statements allow a program to make decisions and execute certain blocks of code only when specific conditions are met. This includes if, elif, and else statements.\n",
        "\n",
        "12. How does the elif statement work?\n",
        "\n",
        "    The elif (short for “else if”) statement is used after an if statement to check multiple conditions. It is evaluated only if the previous conditions were False.\n",
        "\n",
        "13. What is the difference between for and while loops?\n",
        "\n",
        "    for loop is used to iterate over a sequence (like a list or range) and is preferred when the number of iterations is known.\n",
        "\n",
        "    while loop is used when the number of iterations is not known in advance and continues as long as a condition is True.\n",
        "\n",
        "14. Describe a scenario where a while loop is more suitable than a for loop.\n",
        "\n",
        "    A while loop is more suitable when the loop should continue until a certain condition is met, such as repeatedly asking a user for correct input.\n",
        "\n",
        "    e.g. code:\n",
        "\n",
        "    password = \"\"\n",
        "\n",
        "    while password != \"admin123\":\n",
        "\n",
        "         password = input(\"Enter password: \")"
      ],
      "metadata": {
        "id": "vK1GWCjk3T5g"
      }
    },
    {
      "cell_type": "code",
      "source": [
        "# 1. Python program to print \"Hello, World!\"\n",
        "print(\"Hello, World!\")"
      ],
      "metadata": {
        "colab": {
          "base_uri": "https://localhost:8080/"
        },
        "id": "0mKCXwXb51nx",
        "outputId": "f4d0f033-db05-49e3-f71b-d64ca8c4f084"
      },
      "execution_count": 1,
      "outputs": [
        {
          "output_type": "stream",
          "name": "stdout",
          "text": [
            "Hello, World!\n"
          ]
        }
      ]
    },
    {
      "cell_type": "code",
      "source": [
        "# 2. Python program to display your name and age\n",
        "name = input(\"Enter your name: \")\n",
        "age = input(\"Enter your age: \")\n",
        "print(\"Your name is\", name, \"and your age is\", age)"
      ],
      "metadata": {
        "colab": {
          "base_uri": "https://localhost:8080/"
        },
        "id": "8xygmLPg63z4",
        "outputId": "078c9f0a-ad79-4d39-9879-4c73b3d63c00"
      },
      "execution_count": 2,
      "outputs": [
        {
          "output_type": "stream",
          "name": "stdout",
          "text": [
            "Enter your name: Shubhanshu Tiwari\n",
            "Enter your age: 22\n",
            "Your name is Shubhanshu Tiwari and your age is 22\n"
          ]
        }
      ]
    },
    {
      "cell_type": "code",
      "source": [
        "# 3. Print all pre-defined keywords using the keyword library\n",
        "help(\"keywords\")"
      ],
      "metadata": {
        "colab": {
          "base_uri": "https://localhost:8080/"
        },
        "id": "7dBMA68h7LdP",
        "outputId": "77ac4ad5-28a8-46b7-e377-9cca2d03a263"
      },
      "execution_count": 3,
      "outputs": [
        {
          "output_type": "stream",
          "name": "stdout",
          "text": [
            "\n",
            "Here is a list of the Python keywords.  Enter any keyword to get more help.\n",
            "\n",
            "False               class               from                or\n",
            "None                continue            global              pass\n",
            "True                def                 if                  raise\n",
            "and                 del                 import              return\n",
            "as                  elif                in                  try\n",
            "assert              else                is                  while\n",
            "async               except              lambda              with\n",
            "await               finally             nonlocal            yield\n",
            "break               for                 not                 \n",
            "\n"
          ]
        }
      ]
    },
    {
      "cell_type": "code",
      "source": [
        "# 4. Check if a given word is a Python keyword\n",
        "import keyword\n",
        "\n",
        "word = input(\"Enter a word: \")\n",
        "if keyword.iskeyword(word):\n",
        "    print(f\"'{word}' is a Python keyword.\")\n",
        "else:\n",
        "    print(f\"'{word}' is not a Python keyword.\")"
      ],
      "metadata": {
        "colab": {
          "base_uri": "https://localhost:8080/"
        },
        "id": "edFvErz07gs4",
        "outputId": "5204c014-68d4-424c-dd61-23e3b05187e4"
      },
      "execution_count": 4,
      "outputs": [
        {
          "output_type": "stream",
          "name": "stdout",
          "text": [
            "Enter a word: elif\n",
            "'elif' is a Python keyword.\n"
          ]
        }
      ]
    },
    {
      "cell_type": "code",
      "source": [
        "# 5. List vs Tuple Mutability\n",
        "my_list = [1, 2, 3]\n",
        "my_tuple = (1, 2, 3)\n",
        "\n",
        "# Modifying list\n",
        "my_list[0] = 100\n",
        "print(\"Modified List:\", my_list)\n",
        "\n",
        "# Trying to modify tuple will an raise error\n",
        "try:\n",
        "    my_tuple[0] = 100\n",
        "except TypeError as e:\n",
        "    print(\"Error:\", e)\n"
      ],
      "metadata": {
        "colab": {
          "base_uri": "https://localhost:8080/"
        },
        "id": "H2hxcZXr7g-_",
        "outputId": "7f26b5e6-5326-497f-c5b5-e8c1b8aa2b66"
      },
      "execution_count": 5,
      "outputs": [
        {
          "output_type": "stream",
          "name": "stdout",
          "text": [
            "Modified List: [100, 2, 3]\n",
            "Error: 'tuple' object does not support item assignment\n"
          ]
        }
      ]
    },
    {
      "cell_type": "code",
      "source": [
        "# 6. Function to demonstrate mutable vs immutable arguments\n",
        "def modify_data(num, data_list):\n",
        "    num += 10\n",
        "    data_list.append(100)\n",
        "    print(\"Inside Function - Number:\", num)\n",
        "    print(\"Inside Function - List:\", data_list)\n",
        "\n",
        "x = 5\n",
        "lst = [1, 2, 3]\n",
        "modify_data(x, lst)\n",
        "print(\"Outside Function - Number:\", x)\n",
        "print(\"Outside Function - List:\", lst)\n"
      ],
      "metadata": {
        "colab": {
          "base_uri": "https://localhost:8080/"
        },
        "id": "JCah33t67hQW",
        "outputId": "aff96bd2-5972-4cf4-f670-edcb86b21427"
      },
      "execution_count": 6,
      "outputs": [
        {
          "output_type": "stream",
          "name": "stdout",
          "text": [
            "Inside Function - Number: 15\n",
            "Inside Function - List: [1, 2, 3, 100]\n",
            "Outside Function - Number: 5\n",
            "Outside Function - List: [1, 2, 3, 100]\n"
          ]
        }
      ]
    },
    {
      "cell_type": "code",
      "source": [
        "# 7. Basic arithmetic operations on two user-input numbers\n",
        "a = float(input(\"Enter first number: \"))\n",
        "b = float(input(\"Enter second number: \"))\n",
        "\n",
        "print(\"Sum:\", a + b)\n",
        "print(\"Difference:\", a - b)\n",
        "print(\"Product:\", a * b)\n",
        "print(\"Quotient:\", a / b)\n",
        "print(\"Remainder:\", a % b)\n",
        "print(\"Power:\", a ** b)\n",
        "print(\"Floor Division:\", a // b)"
      ],
      "metadata": {
        "colab": {
          "base_uri": "https://localhost:8080/"
        },
        "id": "U9Bkfj3E7hfJ",
        "outputId": "14ebe03b-7af0-4075-f620-fcdb1c16bed3"
      },
      "execution_count": 7,
      "outputs": [
        {
          "output_type": "stream",
          "name": "stdout",
          "text": [
            "Enter first number: 12\n",
            "Enter second number: 7\n",
            "Sum: 19.0\n",
            "Difference: 5.0\n",
            "Product: 84.0\n",
            "Quotient: 1.7142857142857142\n",
            "Remainder: 5.0\n",
            "Power: 35831808.0\n",
            "Floor Division: 1.0\n"
          ]
        }
      ]
    },
    {
      "cell_type": "code",
      "source": [
        "# 8. Demonstrate use of logical operators\n",
        "a = True\n",
        "b = False\n",
        "\n",
        "print(\"Logical AND:\", a and b)\n",
        "print(\"Logical OR:\", a or b)\n",
        "print(\"Logical NOT:\", not a)"
      ],
      "metadata": {
        "colab": {
          "base_uri": "https://localhost:8080/"
        },
        "id": "kAd2PoBH7hw1",
        "outputId": "0a7e030c-90fc-4b57-a78b-874d4ce77cc0"
      },
      "execution_count": 8,
      "outputs": [
        {
          "output_type": "stream",
          "name": "stdout",
          "text": [
            "Logical AND: False\n",
            "Logical OR: True\n",
            "Logical NOT: False\n"
          ]
        }
      ]
    },
    {
      "cell_type": "code",
      "source": [
        "# 9. Convert input string to int, float, and boolean\n",
        "value = input(\"Enter a value: \")\n",
        "\n",
        "int_val = int(value)\n",
        "float_val = float(value)\n",
        "bool_val = bool(value)\n",
        "\n",
        "print(\"Integer:\", int_val)\n",
        "print(\"Float:\", float_val)\n",
        "print(\"Boolean:\", bool_val)"
      ],
      "metadata": {
        "colab": {
          "base_uri": "https://localhost:8080/"
        },
        "id": "xiyo0ips7iAz",
        "outputId": "5c90be79-7fbb-4b11-9e1a-7d38ac052d89"
      },
      "execution_count": 9,
      "outputs": [
        {
          "output_type": "stream",
          "name": "stdout",
          "text": [
            "Enter a value: 34\n",
            "Integer: 34\n",
            "Float: 34.0\n",
            "Boolean: True\n"
          ]
        }
      ]
    },
    {
      "cell_type": "code",
      "source": [
        "# 10. Type casting with list elements\n",
        "str_list = [\"1\", \"2\", \"3\", \"4\"]\n",
        "int_list = list(map(int, str_list))\n",
        "\n",
        "print(\"Original:\", str_list)\n",
        "print(\"Converted to integers:\", int_list)"
      ],
      "metadata": {
        "colab": {
          "base_uri": "https://localhost:8080/"
        },
        "id": "d4yzEx577iQ2",
        "outputId": "c7aeceec-031f-4cc8-c830-9adbdd4ddd6d"
      },
      "execution_count": 10,
      "outputs": [
        {
          "output_type": "stream",
          "name": "stdout",
          "text": [
            "Original: ['1', '2', '3', '4']\n",
            "Converted to integers: [1, 2, 3, 4]\n"
          ]
        }
      ]
    },
    {
      "cell_type": "code",
      "source": [
        "# 11. Check if number is positive, negative, or zero\n",
        "num = float(input(\"Enter a number: \"))\n",
        "if num > 0:\n",
        "   print(\"Positive number\")\n",
        "elif num == 0:\n",
        "   print(\"Zero\")\n",
        "else:\n",
        "   print(\"Negative number\")"
      ],
      "metadata": {
        "colab": {
          "base_uri": "https://localhost:8080/"
        },
        "id": "Miy83vL07iiS",
        "outputId": "58f44051-d3ae-4700-c3f7-f0c63e7a7f6d"
      },
      "execution_count": 11,
      "outputs": [
        {
          "output_type": "stream",
          "name": "stdout",
          "text": [
            "Enter a number: 26\n",
            "Positive number\n"
          ]
        }
      ]
    },
    {
      "cell_type": "code",
      "source": [
        "# 12. For loop to print numbers from 1 to 10\n",
        "for i in range(11):\n",
        "    print(i,end=\" \")"
      ],
      "metadata": {
        "colab": {
          "base_uri": "https://localhost:8080/"
        },
        "id": "7p2ZF9XZ-Ueb",
        "outputId": "d90d6ff7-9264-4813-e788-f5d221bb2332"
      },
      "execution_count": 13,
      "outputs": [
        {
          "output_type": "stream",
          "name": "stdout",
          "text": [
            "0 1 2 3 4 5 6 7 8 9 10 "
          ]
        }
      ]
    },
    {
      "cell_type": "code",
      "source": [
        "# 13. Sum of all even numbers between 1 and 50\n",
        "sum_even = 0\n",
        "for num in range(2, 51, 2):\n",
        "    sum_even += num\n",
        "print(\"Sum of even numbers between 1 and 50:\", sum_even)"
      ],
      "metadata": {
        "colab": {
          "base_uri": "https://localhost:8080/"
        },
        "id": "0YC-Oute-U6t",
        "outputId": "0eef3106-3963-4070-bfad-fc45a45b0140"
      },
      "execution_count": 14,
      "outputs": [
        {
          "output_type": "stream",
          "name": "stdout",
          "text": [
            "Sum of even numbers between 1 and 50: 650\n"
          ]
        }
      ]
    },
    {
      "cell_type": "code",
      "source": [
        "# 14. Reverse a string using a while loop\n",
        "input_str = input(\"Enter a string: \")\n",
        "reversed_str = \"\"\n",
        "length = len(input_str)\n",
        "while length > 0:\n",
        "    reversed_str += input_str[length - 1]\n",
        "    length -= 1\n",
        "print(\"Reversed string:\", reversed_str)"
      ],
      "metadata": {
        "colab": {
          "base_uri": "https://localhost:8080/"
        },
        "id": "bcgg4aa9-VX6",
        "outputId": "cf74c5ac-96bf-4246-affc-dfed66604807"
      },
      "execution_count": 17,
      "outputs": [
        {
          "output_type": "stream",
          "name": "stdout",
          "text": [
            "Enter a string: Python\n",
            "Reversed string: nohtyP\n"
          ]
        }
      ]
    },
    {
      "cell_type": "code",
      "source": [
        "# 15. Factorial of a number using a while loop\n",
        "num = int(input(\"Enter a number: \"))\n",
        "fact = 1\n",
        "i = 1\n",
        "\n",
        "while i <= num:\n",
        "    fact *= i\n",
        "    i += 1\n",
        "\n",
        "print(f\"Factorial of {num} is {fact}\")"
      ],
      "metadata": {
        "colab": {
          "base_uri": "https://localhost:8080/"
        },
        "id": "4mZldknx-VpH",
        "outputId": "9b1362ca-99b3-4f67-8298-081feae1d98a"
      },
      "execution_count": 18,
      "outputs": [
        {
          "output_type": "stream",
          "name": "stdout",
          "text": [
            "Enter a number: 5\n",
            "Factorial of 5 is 120\n"
          ]
        }
      ]
    }
  ]
}