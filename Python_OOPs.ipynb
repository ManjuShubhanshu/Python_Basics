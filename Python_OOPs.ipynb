{
  "nbformat": 4,
  "nbformat_minor": 0,
  "metadata": {
    "colab": {
      "provenance": []
    },
    "kernelspec": {
      "name": "python3",
      "display_name": "Python 3"
    },
    "language_info": {
      "name": "python"
    }
  },
  "cells": [
    {
      "cell_type": "markdown",
      "source": [
        "# Object-Oriented Programming (OOP) in Python – Assignment\n",
        "---\n",
        "## 1. What is Object-Oriented Programming (OOP)?\n",
        "Object-Oriented Programming (OOP) is a programming paradigm that organizes code into **classes and objects**. It focuses on **reusability, modularity, abstraction, and encapsulation**.\n",
        "## 2. What is a class in OOP?\n",
        "A class is a **blueprint** for creating objects. It defines attributes (variables) and methods (functions).\n",
        "class Car:\n",
        "    def __init__(self, brand, model):\n",
        "        self.brand = brand\n",
        "        self.model = model\n",
        "\n",
        "    def show(self):\n",
        "        return f\"{self.brand} {self.model}\"\n",
        "\n",
        "my_car = Car(\"Toyota\", \"Corolla\")\n",
        "print(my_car.show())\n",
        "## 3. What is an object in OOP?\n",
        "An object is an **instance of a class**. Each object has its own data and can use the class methods.\n",
        "car1 = Car(\"Tesla\", \"Model 3\")\n",
        "car2 = Car(\"Honda\", \"Civic\")\n",
        "\n",
        "print(car1.show())\n",
        "print(car2.show())\n",
        "## 4. What is the difference between abstraction and encapsulation?\n",
        "- **Abstraction** hides implementation details (focus on *what* to do).  \n",
        "- **Encapsulation** bundles data and methods while restricting direct access (focus on *how* to protect data).\n",
        "from abc import ABC, abstractmethod\n",
        "\n",
        "# Abstraction Example\n",
        "class Animal(ABC):\n",
        "    @abstractmethod\n",
        "    def sound(self):\n",
        "        pass\n",
        "\n",
        "class Dog(Animal):\n",
        "    def sound(self):\n",
        "        return \"Bark\"\n",
        "\n",
        "# Encapsulation Example\n",
        "class Account:\n",
        "    def __init__(self, balance):\n",
        "        self.__balance = balance\n",
        "\n",
        "    def deposit(self, amount):\n",
        "        self.__balance += amount\n",
        "\n",
        "    def get_balance(self):\n",
        "        return self.__balance\n",
        "## 5. What are dunder methods in Python?\n",
        "Dunder (double underscore) methods are special methods in Python with names like `__init__`, `__str__`, `__add__`. They define object behavior.\n",
        "class Book:\n",
        "    def __init__(self, title):\n",
        "        self.title = title\n",
        "\n",
        "    def __str__(self):\n",
        "        return f\"Book: {self.title}\"\n",
        "\n",
        "print(Book(\"Python Basics\"))\n",
        "## 6. Explain the concept of inheritance in OOP.\n",
        "Inheritance allows a class (child) to acquire properties and behaviors from another class (parent).\n",
        "class Animal:\n",
        "    def speak(self):\n",
        "        return \"Some sound\"\n",
        "\n",
        "class Dog(Animal):\n",
        "    def speak(self):\n",
        "        return \"Bark\"\n",
        "\n",
        "print(Dog().speak())\n",
        "## 7. What is polymorphism in OOP?\n",
        "Polymorphism means the same function name can have different forms depending on the object.\n",
        "for animal in [Dog(), Animal()]:\n",
        "    print(animal.speak())\n",
        "## 8. How is encapsulation achieved in Python?\n",
        "Encapsulation is achieved by defining **private attributes/methods** (using `__var`) and providing controlled access via getters/setters.\n",
        "class Bank:\n",
        "    def __init__(self, balance):\n",
        "        self.__balance = balance\n",
        "\n",
        "    def deposit(self, amount):\n",
        "        self.__balance += amount\n",
        "\n",
        "    def get_balance(self):\n",
        "        return self.__balance\n",
        "\n",
        "b = Bank(100)\n",
        "b.deposit(50)\n",
        "print(b.get_balance())\n",
        "## 9. What is a constructor in Python?\n",
        "A constructor is the `__init__` method, automatically called when creating an object.\n",
        "class Student:\n",
        "    def __init__(self, name):\n",
        "        self.name = name\n",
        "\n",
        "s = Student(\"Alice\")\n",
        "print(s.name)\n",
        "## 10. What are class and static methods in Python?\n",
        "- **Class method** works with the class (uses `@classmethod`, receives `cls`).  \n",
        "- **Static method** is independent of class or instance (uses `@staticmethod`).\n",
        "class MyClass:\n",
        "    value = 0\n",
        "\n",
        "    @classmethod\n",
        "    def set_value(cls, v):\n",
        "        cls.value = v\n",
        "\n",
        "    @staticmethod\n",
        "    def greet():\n",
        "        return \"Hello!\"\n",
        "\n",
        "MyClass.set_value(10)\n",
        "print(MyClass.value)\n",
        "print(MyClass.greet())\n",
        "## 11. What is method overloading in Python?\n",
        "Python doesn’t support true method overloading. Instead, default arguments or `*args` can be used.\n",
        "class Math:\n",
        "    def add(self, a, b=0):\n",
        "        return a + b\n",
        "\n",
        "print(Math().add(5))\n",
        "print(Math().add(5, 10))\n",
        "## 12. What is method overriding in OOP?\n",
        "When a subclass provides a new implementation of a method already defined in the parent class.\n",
        "class Parent:\n",
        "    def show(self):\n",
        "        return \"Parent\"\n",
        "\n",
        "class Child(Parent):\n",
        "    def show(self):\n",
        "        return \"Child\"\n",
        "\n",
        "print(Child().show())\n",
        "## 13. What is a property decorator in Python?\n",
        "The `@property` decorator is used to make a method act like an attribute (getter/setter).\n",
        "class Circle:\n",
        "    def __init__(self, radius):\n",
        "        self._radius = radius\n",
        "\n",
        "    @property\n",
        "    def area(self):\n",
        "        return 3.14 * self._radius**2\n",
        "\n",
        "c = Circle(5)\n",
        "print(c.area)\n",
        "## 14. Why is polymorphism important in OOP?\n",
        "It allows different object types to be treated uniformly, increasing flexibility and reusability.\n",
        "## 15. What is an abstract class in Python?\n",
        "An abstract class is a class that cannot be instantiated and may contain abstract methods (declared but not implemented).\n",
        "from abc import ABC, abstractmethod\n",
        "\n",
        "class Shape(ABC):\n",
        "    @abstractmethod\n",
        "    def area(self):\n",
        "        pass\n",
        "\n",
        "class Square(Shape):\n",
        "    def __init__(self, side):\n",
        "        self.side = side\n",
        "\n",
        "    def area(self):\n",
        "        return self.side * self.side\n",
        "\n",
        "print(Square(4).area())\n",
        "## 16. What are the advantages of OOP?\n",
        "- Code reusability\n",
        "- Modularity\n",
        "- Encapsulation\n",
        "- Abstraction\n",
        "- Easier maintenance and scalability\n",
        "## 17. What is multiple inheritance in Python?\n",
        "Multiple inheritance means a class can inherit from more than one parent class.\n",
        "class A:\n",
        "    def showA(self):\n",
        "        return \"A\"\n",
        "\n",
        "class B:\n",
        "    def showB(self):\n",
        "        return \"B\"\n",
        "\n",
        "class C(A, B):\n",
        "    pass\n",
        "\n",
        "c = C()\n",
        "print(c.showA(), c.showB())\n",
        "## 18. What is the difference between a class variable and an instance variable?\n",
        "- **Class variable**: Shared by all objects of the class.  \n",
        "- **Instance variable**: Unique to each object.\n",
        "class Example:\n",
        "    class_var = 0\n",
        "    def __init__(self, val):\n",
        "        self.instance_var = val\n",
        "\n",
        "obj1 = Example(10)\n",
        "obj2 = Example(20)\n",
        "\n",
        "print(obj1.class_var, obj2.class_var)\n",
        "print(obj1.instance_var, obj2.instance_var)\n",
        "## 19. Explain the purpose of `__str__` and `__repr__` methods in Python.\n",
        "- `__str__`: User-friendly string representation.  \n",
        "- `__repr__`: Developer-friendly, unambiguous representation.\n",
        "class Person:\n",
        "    def __init__(self, name):\n",
        "        self.name = name\n",
        "\n",
        "    def __str__(self):\n",
        "        return f\"Person: {self.name}\"\n",
        "\n",
        "    def __repr__(self):\n",
        "        return f\"Person('{self.name}')\"\n",
        "\n",
        "p = Person(\"Bob\")\n",
        "print(str(p))\n",
        "print(repr(p))\n",
        "## 20. What is the significance of the `super()` function in Python?\n",
        "`super()` is used to call methods from the parent class inside a child class.\n",
        "class Parent:\n",
        "    def __init__(self):\n",
        "        print(\"Parent init\")\n",
        "\n",
        "class Child(Parent):\n",
        "    def __init__(self):\n",
        "        super().__init__()\n",
        "        print(\"Child init\")\n",
        "\n",
        "c = Child()\n",
        "## 21. What is the significance of the `__del__` method in Python?\n",
        "The `__del__` method is a destructor, called when an object is deleted or goes out of scope.\n",
        "class Demo:\n",
        "    def __del__(self):\n",
        "        print(\"Destructor called\")\n",
        "\n",
        "d = Demo()\n",
        "d = None\n",
        "## 22. What is the difference between @staticmethod and @classmethod in Python?\n",
        "- **@staticmethod**: Does not take `self` or `cls`, works like a normal function inside class.  \n",
        "- **@classmethod**: Takes `cls` as parameter and works on class variables.\n",
        "## 23. How does polymorphism work in Python with inheritance?\n",
        "A child class can override methods of the parent class. Python will call the version defined in the child.\n",
        "class Bird:\n",
        "    def sound(self):\n",
        "        return \"Chirp\"\n",
        "\n",
        "class Crow(Bird):\n",
        "    def sound(self):\n",
        "        return \"Caw\"\n",
        "\n",
        "for b in [Bird(), Crow()]:\n",
        "    print(b.sound())\n",
        "## 24. What is method chaining in Python OOP?\n",
        "Method chaining means calling multiple methods sequentially in a single line because each method returns `self`.\n",
        "class Builder:\n",
        "    def __init__(self):\n",
        "        self.data = []\n",
        "\n",
        "    def add(self, item):\n",
        "        self.data.append(item)\n",
        "        return self\n",
        "\n",
        "    def show(self):\n",
        "        return self.data\n",
        "\n",
        "print(Builder().add(1).add(2).show())\n",
        "## 25. What is the purpose of the `__call__` method in Python?\n",
        "The `__call__` method allows an object to be called like a function.\n",
        "class Greeter:\n",
        "    def __call__(self, name):\n",
        "        return f\"Hello {name}\"\n",
        "\n",
        "g = Greeter()\n",
        "print(g(\"Alice\"))"
      ],
      "metadata": {
        "id": "sK4VMGmJSLT1"
      }
    },
    {
      "cell_type": "code",
      "source": [
        "# 1. Parent & Child Class (Method Overriding)\n",
        "class Animal:\n",
        "    def speak(self):\n",
        "        print(\"This animal makes a sound.\")\n",
        "\n",
        "class Dog(Animal):\n",
        "    def speak(self):\n",
        "        print(\"Bark!\")\n",
        "\n",
        "d = Dog()\n",
        "d.speak()"
      ],
      "metadata": {
        "colab": {
          "base_uri": "https://localhost:8080/"
        },
        "id": "hdWpu5GOTjX4",
        "outputId": "31ce9789-4fdc-4b96-bd44-168f89be6249"
      },
      "execution_count": 1,
      "outputs": [
        {
          "output_type": "stream",
          "name": "stdout",
          "text": [
            "Bark!\n"
          ]
        }
      ]
    },
    {
      "cell_type": "code",
      "source": [
        "# 2. Abstract Class Shape\n",
        "from abc import ABC, abstractmethod\n",
        "\n",
        "class Shape(ABC):\n",
        "    @abstractmethod\n",
        "    def area(self):\n",
        "        pass\n",
        "\n",
        "class Circle(Shape):\n",
        "    def __init__(self, radius):\n",
        "        self.radius = radius\n",
        "\n",
        "    def area(self):\n",
        "        return 3.14 * self.radius * self.radius\n",
        "\n",
        "class Rectangle(Shape):\n",
        "    def __init__(self, length, width):\n",
        "        self.length = length\n",
        "        self.width = width\n",
        "\n",
        "    def area(self):\n",
        "        return self.length * self.width\n",
        "\n",
        "c = Circle(5)\n",
        "r = Rectangle(4, 6)\n",
        "print(c.area())\n",
        "print(r.area())"
      ],
      "metadata": {
        "colab": {
          "base_uri": "https://localhost:8080/"
        },
        "id": "9QwtbefxVD5r",
        "outputId": "b7291d49-5fe1-4e6a-ff66-7c5ebfe324bd"
      },
      "execution_count": 2,
      "outputs": [
        {
          "output_type": "stream",
          "name": "stdout",
          "text": [
            "78.5\n",
            "24\n"
          ]
        }
      ]
    },
    {
      "cell_type": "code",
      "source": [
        "# 3. Multi-level Inheritance\n",
        "class Vehicle:\n",
        "    def __init__(self, v_type):\n",
        "        self.type = v_type\n",
        "\n",
        "class Car(Vehicle):\n",
        "    def __init__(self, brand, v_type=\"Car\"):\n",
        "        super().__init__(v_type)\n",
        "        self.brand = brand\n",
        "\n",
        "class ElectricCar(Car):\n",
        "    def __init__(self, brand, battery):\n",
        "        super().__init__(brand)\n",
        "        self.battery = battery\n",
        "\n",
        "e = ElectricCar(\"Tesla\", \"100 kWh\")\n",
        "print(e.type, e.brand, e.battery)"
      ],
      "metadata": {
        "colab": {
          "base_uri": "https://localhost:8080/"
        },
        "id": "7o-StHJnVD9p",
        "outputId": "e36912c0-2672-4c07-893d-c8608fd6ad53"
      },
      "execution_count": 3,
      "outputs": [
        {
          "output_type": "stream",
          "name": "stdout",
          "text": [
            "Car Tesla 100 kWh\n"
          ]
        }
      ]
    },
    {
      "cell_type": "code",
      "source": [
        "# 4. Polymorphism with Bird\n",
        "class Bird:\n",
        "    def fly(self):\n",
        "        print(\"Some birds can fly.\")\n",
        "\n",
        "class Sparrow(Bird):\n",
        "    def fly(self):\n",
        "        print(\"Sparrow flies high.\")\n",
        "\n",
        "class Penguin(Bird):\n",
        "    def fly(self):\n",
        "        print(\"Penguins cannot fly.\")\n",
        "\n",
        "birds = [Sparrow(), Penguin()]\n",
        "for b in birds:\n",
        "    b.fly()"
      ],
      "metadata": {
        "colab": {
          "base_uri": "https://localhost:8080/"
        },
        "id": "YAFqIAEsVEBS",
        "outputId": "fe52bc90-d582-4a72-a9a0-700fcbb5643f"
      },
      "execution_count": 4,
      "outputs": [
        {
          "output_type": "stream",
          "name": "stdout",
          "text": [
            "Sparrow flies high.\n",
            "Penguins cannot fly.\n"
          ]
        }
      ]
    },
    {
      "cell_type": "code",
      "source": [
        "# 5. Encapsulation - BankAccount\n",
        "class BankAccount:\n",
        "    def __init__(self, balance=0):\n",
        "        self.__balance = balance\n",
        "\n",
        "    def deposit(self, amount):\n",
        "        self.__balance += amount\n",
        "\n",
        "    def withdraw(self, amount):\n",
        "        if amount <= self.__balance:\n",
        "            self.__balance -= amount\n",
        "        else:\n",
        "            print(\"Insufficient balance!\")\n",
        "\n",
        "    def check_balance(self):\n",
        "        return self.__balance\n",
        "\n",
        "acc = BankAccount(1000)\n",
        "acc.deposit(500)\n",
        "acc.withdraw(200)\n",
        "print(acc.check_balance())\n"
      ],
      "metadata": {
        "colab": {
          "base_uri": "https://localhost:8080/"
        },
        "id": "DoJ5f5PRVEEu",
        "outputId": "a341e68f-c284-4efe-b0e5-fcdf261bb033"
      },
      "execution_count": 5,
      "outputs": [
        {
          "output_type": "stream",
          "name": "stdout",
          "text": [
            "1300\n"
          ]
        }
      ]
    },
    {
      "cell_type": "code",
      "source": [
        "# 6. Runtime Polymorphism (Instrument Example)\n",
        "class Instrument:\n",
        "    def play(self):\n",
        "        print(\"Instrument playing sound\")\n",
        "\n",
        "class Guitar(Instrument):\n",
        "    def play(self):\n",
        "        print(\"Playing guitar 🎸\")\n",
        "\n",
        "class Piano(Instrument):\n",
        "    def play(self):\n",
        "        print(\"Playing piano 🎹\")\n",
        "\n",
        "instruments = [Guitar(), Piano()]\n",
        "for i in instruments:\n",
        "    i.play()"
      ],
      "metadata": {
        "colab": {
          "base_uri": "https://localhost:8080/"
        },
        "id": "EIyw6kxvVEIH",
        "outputId": "8abe9bc1-da5e-4525-e021-7b8d5a37029e"
      },
      "execution_count": 6,
      "outputs": [
        {
          "output_type": "stream",
          "name": "stdout",
          "text": [
            "Playing guitar 🎸\n",
            "Playing piano 🎹\n"
          ]
        }
      ]
    },
    {
      "cell_type": "code",
      "source": [
        "# 7. Class & Static Methods\n",
        "class MathOperations:\n",
        "    @classmethod\n",
        "    def add_numbers(cls, a, b):\n",
        "        return a + b\n",
        "\n",
        "    @staticmethod\n",
        "    def subtract_numbers(a, b):\n",
        "        return a - b\n",
        "\n",
        "print(MathOperations.add_numbers(10, 5))\n",
        "print(MathOperations.subtract_numbers(10, 5))"
      ],
      "metadata": {
        "colab": {
          "base_uri": "https://localhost:8080/"
        },
        "id": "BLWbwaqlVELa",
        "outputId": "deba800d-cb00-4e15-b0b3-88fbeb3d12bf"
      },
      "execution_count": 7,
      "outputs": [
        {
          "output_type": "stream",
          "name": "stdout",
          "text": [
            "15\n",
            "5\n"
          ]
        }
      ]
    },
    {
      "cell_type": "code",
      "source": [
        "# 8. Counting Persons with Class Method\n",
        "class Person:\n",
        "    count = 0\n",
        "\n",
        "    def __init__(self, name):\n",
        "        self.name = name\n",
        "        Person.count += 1\n",
        "\n",
        "    @classmethod\n",
        "    def total_persons(cls):\n",
        "        return cls.count\n",
        "\n",
        "p1 = Person(\"A\")\n",
        "p2 = Person(\"B\")\n",
        "print(Person.total_persons())"
      ],
      "metadata": {
        "colab": {
          "base_uri": "https://localhost:8080/"
        },
        "id": "Tv_ll7BOVEjX",
        "outputId": "8aac2588-a0d2-4ddf-b102-d79b8fafef18"
      },
      "execution_count": 8,
      "outputs": [
        {
          "output_type": "stream",
          "name": "stdout",
          "text": [
            "2\n"
          ]
        }
      ]
    },
    {
      "cell_type": "code",
      "source": [
        "# 9. Fraction with __str__\n",
        "class Fraction:\n",
        "    def __init__(self, num, den):\n",
        "        self.numerator = num\n",
        "        self.denominator = den\n",
        "\n",
        "    def __str__(self):\n",
        "        return f\"{self.numerator}/{self.denominator}\"\n",
        "\n",
        "f = Fraction(3, 4)\n",
        "print(f)"
      ],
      "metadata": {
        "colab": {
          "base_uri": "https://localhost:8080/"
        },
        "id": "vIhVmrYZVEmz",
        "outputId": "2cb229fa-0fd5-4f24-9c75-2b9b9ab44036"
      },
      "execution_count": 9,
      "outputs": [
        {
          "output_type": "stream",
          "name": "stdout",
          "text": [
            "3/4\n"
          ]
        }
      ]
    },
    {
      "cell_type": "code",
      "source": [
        "# 10. Operator Overloading (Vector Addition)\n",
        "class Vector:\n",
        "    def __init__(self, x, y):\n",
        "        self.x = x\n",
        "        self.y = y\n",
        "\n",
        "    def __add__(self, other):\n",
        "        return Vector(self.x + other.x, self.y + other.y)\n",
        "\n",
        "    def __str__(self):\n",
        "        return f\"({self.x}, {self.y})\"\n",
        "\n",
        "v1 = Vector(2, 3)\n",
        "v2 = Vector(4, 5)\n",
        "print(v1 + v2)"
      ],
      "metadata": {
        "colab": {
          "base_uri": "https://localhost:8080/"
        },
        "id": "mlcT2gieVEqI",
        "outputId": "2d517ca8-c2f5-4a46-c1c8-8995a98b1a96"
      },
      "execution_count": 10,
      "outputs": [
        {
          "output_type": "stream",
          "name": "stdout",
          "text": [
            "(6, 8)\n"
          ]
        }
      ]
    },
    {
      "cell_type": "code",
      "source": [
        "# 11. Person with greet()\n",
        "class Person:\n",
        "    def __init__(self, name, age):\n",
        "        self.name = name\n",
        "        self.age = age\n",
        "\n",
        "    def greet(self):\n",
        "        print(f\"Hello, my name is {self.name} and I am {self.age} years old.\")\n",
        "\n",
        "p = Person(\"John\", 25)\n",
        "p.greet()"
      ],
      "metadata": {
        "colab": {
          "base_uri": "https://localhost:8080/"
        },
        "id": "pPzJoGI2VEtq",
        "outputId": "83fe5c4e-19ea-49b9-d74a-a501ae7a241d"
      },
      "execution_count": 11,
      "outputs": [
        {
          "output_type": "stream",
          "name": "stdout",
          "text": [
            "Hello, my name is John and I am 25 years old.\n"
          ]
        }
      ]
    },
    {
      "cell_type": "code",
      "source": [
        "# 12. Student with Average Grade\n",
        "class Student:\n",
        "    def __init__(self, name, grades):\n",
        "        self.name = name\n",
        "        self.grades = grades\n",
        "\n",
        "    def average_grade(self):\n",
        "        return sum(self.grades) / len(self.grades)\n",
        "\n",
        "s = Student(\"Alice\", [90, 80, 70])\n",
        "print(s.average_grade())"
      ],
      "metadata": {
        "colab": {
          "base_uri": "https://localhost:8080/"
        },
        "id": "p7dDYss5VEw8",
        "outputId": "8d5b98f3-4468-4b87-fe37-d5438d83ea9b"
      },
      "execution_count": 12,
      "outputs": [
        {
          "output_type": "stream",
          "name": "stdout",
          "text": [
            "80.0\n"
          ]
        }
      ]
    },
    {
      "cell_type": "code",
      "source": [
        "# 13. Rectangle with Dimensions\n",
        "class Rectangle:\n",
        "    def set_dimensions(self, length, width):\n",
        "        self.length = length\n",
        "        self.width = width\n",
        "\n",
        "    def area(self):\n",
        "        return self.length * self.width\n",
        "\n",
        "r = Rectangle()\n",
        "r.set_dimensions(5, 4)\n",
        "print(r.area())"
      ],
      "metadata": {
        "colab": {
          "base_uri": "https://localhost:8080/"
        },
        "id": "xnMa4Ln5VE0Z",
        "outputId": "f49195d8-96e9-48df-e47a-1a6c98d13d74"
      },
      "execution_count": 13,
      "outputs": [
        {
          "output_type": "stream",
          "name": "stdout",
          "text": [
            "20\n"
          ]
        }
      ]
    },
    {
      "cell_type": "code",
      "source": [
        "# 14. Employee & Manager (Salary Calculation)\n",
        "class Employee:\n",
        "    def __init__(self, hours, rate):\n",
        "        self.hours = hours\n",
        "        self.rate = rate\n",
        "\n",
        "    def calculate_salary(self):\n",
        "        return self.hours * self.rate\n",
        "\n",
        "class Manager(Employee):\n",
        "    def __init__(self, hours, rate, bonus):\n",
        "        super().__init__(hours, rate)\n",
        "        self.bonus = bonus\n",
        "\n",
        "    def calculate_salary(self):\n",
        "        return super().calculate_salary() + self.bonus\n",
        "\n",
        "m = Manager(40, 50, 1000)\n",
        "print(m.calculate_salary())"
      ],
      "metadata": {
        "colab": {
          "base_uri": "https://localhost:8080/"
        },
        "id": "3eZCmN-VVE3n",
        "outputId": "f0e9a58d-2358-4a6d-e3c8-79c4a022eb0b"
      },
      "execution_count": 14,
      "outputs": [
        {
          "output_type": "stream",
          "name": "stdout",
          "text": [
            "3000\n"
          ]
        }
      ]
    },
    {
      "cell_type": "code",
      "source": [
        "# 15. Product (Total Price)\n",
        "class Product:\n",
        "    def __init__(self, name, price, quantity):\n",
        "        self.name = name\n",
        "        self.price = price\n",
        "        self.quantity = quantity\n",
        "\n",
        "    def total_price(self):\n",
        "        return self.price * self.quantity\n",
        "\n",
        "p = Product(\"Laptop\", 50000, 2)\n",
        "print(p.total_price())"
      ],
      "metadata": {
        "colab": {
          "base_uri": "https://localhost:8080/"
        },
        "id": "8Vmyyg2vVFLk",
        "outputId": "9453ec4f-c6dd-43b8-ffd1-cba155faa191"
      },
      "execution_count": 15,
      "outputs": [
        {
          "output_type": "stream",
          "name": "stdout",
          "text": [
            "100000\n"
          ]
        }
      ]
    },
    {
      "cell_type": "code",
      "source": [
        "# 16. Animal with Abstract Method\n",
        "from abc import ABC, abstractmethod\n",
        "\n",
        "class Animal(ABC):\n",
        "    @abstractmethod\n",
        "    def sound(self):\n",
        "        pass\n",
        "\n",
        "class Cow(Animal):\n",
        "    def sound(self):\n",
        "        return \"Moo!\"\n",
        "\n",
        "class Sheep(Animal):\n",
        "    def sound(self):\n",
        "        return \"Baa!\"\n",
        "\n",
        "print(Cow().sound())\n",
        "print(Sheep().sound())"
      ],
      "metadata": {
        "colab": {
          "base_uri": "https://localhost:8080/"
        },
        "id": "yNw0goxLVFO7",
        "outputId": "42857a51-5687-4b68-8b88-820074b1607d"
      },
      "execution_count": 16,
      "outputs": [
        {
          "output_type": "stream",
          "name": "stdout",
          "text": [
            "Moo!\n",
            "Baa!\n"
          ]
        }
      ]
    },
    {
      "cell_type": "code",
      "source": [
        "# 17. Book with Details\n",
        "class Book:\n",
        "    def __init__(self, title, author, year):\n",
        "        self.title = title\n",
        "        self.author = author\n",
        "        self.year_published = year\n",
        "\n",
        "    def get_book_info(self):\n",
        "        return f\"{self.title} by {self.author}, published in {self.year_published}\"\n",
        "\n",
        "b = Book(\"Python 101\", \"John Doe\", 2020)\n",
        "print(b.get_book_info())"
      ],
      "metadata": {
        "colab": {
          "base_uri": "https://localhost:8080/"
        },
        "id": "Pr7KHglMVFSh",
        "outputId": "24063701-28d4-425e-adfe-05eea21131e8"
      },
      "execution_count": 17,
      "outputs": [
        {
          "output_type": "stream",
          "name": "stdout",
          "text": [
            "Python 101 by John Doe, published in 2020\n"
          ]
        }
      ]
    },
    {
      "cell_type": "code",
      "source": [
        "# 18. House & Mansion\n",
        "class House:\n",
        "    def __init__(self, address, price):\n",
        "        self.address = address\n",
        "        self.price = price\n",
        "\n",
        "class Mansion(House):\n",
        "    def __init__(self, address, price, number_of_rooms):\n",
        "        super().__init__(address, price)\n",
        "        self.number_of_rooms = number_of_rooms\n",
        "\n",
        "m = Mansion(\"123 Street\", 1000000, 10)\n",
        "print(m.address, m.price, m.number_of_rooms)"
      ],
      "metadata": {
        "colab": {
          "base_uri": "https://localhost:8080/"
        },
        "id": "3l2YRpPaVFWJ",
        "outputId": "898ae814-2af6-42db-e6ed-dbb67ca3bff3"
      },
      "execution_count": 18,
      "outputs": [
        {
          "output_type": "stream",
          "name": "stdout",
          "text": [
            "123 Street 1000000 10\n"
          ]
        }
      ]
    }
  ]
}