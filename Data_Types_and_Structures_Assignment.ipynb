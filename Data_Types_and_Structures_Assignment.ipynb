{
  "nbformat": 4,
  "nbformat_minor": 0,
  "metadata": {
    "colab": {
      "provenance": []
    },
    "kernelspec": {
      "name": "python3",
      "display_name": "Python 3"
    },
    "language_info": {
      "name": "python"
    }
  },
  "cells": [
    {
      "cell_type": "markdown",
      "source": [
        "\n",
        "# Data Types and Structures Questions\n",
        "\n",
        "---\n",
        "\n",
        "## **1. What are Data Structures and Why Are They Important?**\n",
        "Data structures are **specialized formats** for organizing, processing, retrieving, and storing data.  \n",
        "Examples in Python: `list`, `tuple`, `set`, `dict`, `str`.\n",
        "\n",
        "**Importance:**\n",
        "- **Efficiency:** The right data structure improves program speed and memory use.\n",
        "- **Clarity:** Code is easier to understand and maintain.\n",
        "- **Scalability:** Handles larger datasets without performance issues.\n",
        "\n",
        "---\n",
        "\n",
        "## **2. Mutable vs Immutable Data Types**\n",
        "- **Mutable:** Can be changed after creation (contents can be altered, added, or removed).\n",
        "```python\n",
        "my_list = [1, 2, 3]\n",
        "my_list.append(4)  # List is changed in place\n",
        "```\n",
        "- **Immutable:** Cannot be altered after creation; changes create a new object.\n",
        "```python\n",
        "my_tuple = (1, 2, 3)\n",
        "my_tuple[0] = 99  # ❌ Raises TypeError\n",
        "```\n",
        "\n",
        "---\n",
        "\n",
        "## **3. Lists vs Tuples**\n",
        "| Feature         | List              | Tuple               |\n",
        "|-----------------|-------------------|---------------------|\n",
        "| Mutability      | Mutable           | Immutable           |\n",
        "| Syntax          | `[ ]`             | `( )`               |\n",
        "| Performance     | Slower (more flexible) | Faster (less flexible) |\n",
        "| Use case        | Collections that may change | Fixed, constant collections |\n",
        "| Hashable?       | No                | Yes (if elements are immutable) |\n",
        "\n",
        "---\n",
        "\n",
        "## **4. How Dictionaries Store Data**\n",
        "- Implemented as **hash tables**.\n",
        "- A **hash function** maps keys to numeric values (hash codes).\n",
        "- These hash codes decide where key-value pairs are stored in memory.\n",
        "- Average lookup, insertion, and deletion: **O(1)** time.\n",
        "\n",
        "---\n",
        "\n",
        "## **5. Why Use a Set Instead of a List?**\n",
        "- **Uniqueness:** Sets automatically store only unique elements.\n",
        "- **Speed:** Membership checks (`in`) are O(1) on average vs O(n) for lists.\n",
        "- **Extra Features:** Support mathematical set operations like union and intersection.\n",
        "\n",
        "---\n",
        "\n",
        "## **6. Strings vs Lists**\n",
        "- **String:** Immutable sequence of characters, can only store text.\n",
        "- **List:** Mutable sequence, can store any data type.\n",
        "\n",
        "---\n",
        "\n",
        "## **7. How Tuples Ensure Data Integrity**\n",
        "- Tuples are immutable, so their contents cannot be accidentally changed.\n",
        "- Useful for constants or fixed datasets, such as coordinates `(x, y)`.\n",
        "- Can be used as dictionary keys because they are hashable.\n",
        "\n",
        "---\n",
        "\n",
        "## **8. Hash Table & Dictionaries**\n",
        "- **Hash Table:** Stores key–value pairs using a hash function for quick access.\n",
        "- **Python Dictionaries:** Implemented as hash tables, giving fast lookups.\n",
        "\n",
        "---\n",
        "\n",
        "## **9. Lists with Different Data Types**\n",
        "Lists in Python can contain mixed data types:\n",
        "```python\n",
        "data = [42, \"hello\", 3.14, True, [1, 2, 3]]\n",
        "```\n",
        "\n",
        "---\n",
        "\n",
        "## **10. Why Strings are Immutable**\n",
        "- **Performance:** Saves memory by reusing existing strings.\n",
        "- **Safety:** Prevents accidental changes.\n",
        "- **Hashability:** Allows strings to be dictionary keys.\n",
        "\n",
        "---\n",
        "\n",
        "## **11. Advantages of Dictionaries Over Lists**\n",
        "- O(1) average lookup by key.\n",
        "- No need to know element positions.\n",
        "- Clear key–value mapping makes data more readable.\n",
        "\n",
        "---\n",
        "\n",
        "## **12. How Sets Handle Duplicates**\n",
        "- If you add a duplicate element, it’s ignored:\n",
        "```python\n",
        "ids = {1, 2, 3}\n",
        "ids.add(2)  # No effect, already exists\n",
        "```\n",
        "\n",
        "---\n",
        "\n",
        "## **13. When to Prefer Tuples**\n",
        "- Storing fixed collections of data:\n",
        "```python\n",
        "coordinates = (40.7128, -74.0060)  # Latitude and longitude\n",
        "```\n",
        "\n",
        "---\n",
        "\n",
        "## **14. The `in` Keyword**\n",
        "- **List:** Checks if a value exists among elements (O(n) time).\n",
        "- **Dictionary:** Checks if a key exists (O(1) time).\n",
        "\n",
        "---\n",
        "\n",
        "## **15. Modifying Tuples**\n",
        "- Tuples themselves are immutable, so elements can’t be reassigned.\n",
        "- However, if a tuple contains a mutable object (like a list), that object can be changed:\n",
        "```python\n",
        "t = ([1, 2], 3)\n",
        "t[0].append(4)  # Allowed because the list is mutable\n",
        "```\n",
        "\n",
        "---\n",
        "\n",
        "## **16. Nested Dictionary**\n",
        "A dictionary with dictionaries as values:\n",
        "```python\n",
        "employees = {\n",
        "    \"Alice\": {\"age\": 25, \"dept\": \"HR\"},\n",
        "    \"Bob\": {\"age\": 30, \"dept\": \"IT\"}\n",
        "}\n",
        "```\n",
        "**Use case:** Storing structured data like JSON.\n",
        "\n",
        "---\n",
        "\n",
        "## **17. Dictionary Access Time Complexity**\n",
        "- **Average case:** O(1) due to hashing.\n",
        "- **Worst case:** O(n) if many keys hash to the same location (rare).\n",
        "\n",
        "---\n",
        "\n",
        "## **18. When Lists are Preferred Over Dictionaries**\n",
        "- You need **ordered** data with duplicates.\n",
        "- Data is **sequential** and accessed by position, not key.\n",
        "\n",
        "---\n",
        "\n",
        "## **19. Why Dictionaries are Unordered**\n",
        "- Before Python 3.7: No guaranteed order.\n",
        "- Python 3.7+: Insertion order preserved by implementation, but access is still by key, not index.\n",
        "\n",
        "---\n",
        "\n",
        "## **20. List vs Dictionary Retrieval**\n",
        "- **List:** Retrieve elements by index (position number).\n",
        "- **Dictionary:** Retrieve elements by key.\n",
        "```python\n",
        "names = [\"Alice\", \"Bob\"]\n",
        "print(names[0])  # Alice\n",
        "ages = {\"Alice\": 25, \"Bob\": 30}\n",
        "print(ages[\"Alice\"])  # 25\n",
        "```"
      ],
      "metadata": {
        "id": "9i2c4GXZXssL"
      }
    },
    {
      "cell_type": "code",
      "source": [
        "# 1. Create a string with your name and print it\n",
        "name = input(\"Enter your name: \")\n",
        "print(\"My name is\",name)"
      ],
      "metadata": {
        "id": "E4X1fly4YGO1",
        "colab": {
          "base_uri": "https://localhost:8080/"
        },
        "outputId": "7c820ce1-51fa-4726-f036-ce27c953433f"
      },
      "execution_count": 4,
      "outputs": [
        {
          "output_type": "stream",
          "name": "stdout",
          "text": [
            "Enter your name: Shubhanshu Tiwari\n",
            "My name is Shubhanshu Tiwari\n"
          ]
        }
      ]
    },
    {
      "cell_type": "code",
      "source": [
        "# 2. Find the length of the string \"Hello World\"\n",
        "print(len(\"Hello World\"))"
      ],
      "metadata": {
        "colab": {
          "base_uri": "https://localhost:8080/"
        },
        "id": "_MhK4pUIeKrO",
        "outputId": "78d6bcb1-6838-4f07-c0c3-55f0a4027996"
      },
      "execution_count": 5,
      "outputs": [
        {
          "output_type": "stream",
          "name": "stdout",
          "text": [
            "11\n"
          ]
        }
      ]
    },
    {
      "cell_type": "code",
      "source": [
        "# 3. Slice the first 3 characters from the string \"Python Programming\"\n",
        "print(\"Python Programming\"[:3])"
      ],
      "metadata": {
        "colab": {
          "base_uri": "https://localhost:8080/"
        },
        "id": "tC8AFOGneLBU",
        "outputId": "b37a51fe-54de-41be-d1c5-f26317ea5662"
      },
      "execution_count": 6,
      "outputs": [
        {
          "output_type": "stream",
          "name": "stdout",
          "text": [
            "Pyt\n"
          ]
        }
      ]
    },
    {
      "cell_type": "code",
      "source": [
        "# 4. Convert the string \"hello\" to uppercase\n",
        "print(\"hello\".upper())"
      ],
      "metadata": {
        "colab": {
          "base_uri": "https://localhost:8080/"
        },
        "id": "mDFvgRhAeLRr",
        "outputId": "119bb43d-8ad3-4757-8492-b362f977d897"
      },
      "execution_count": 7,
      "outputs": [
        {
          "output_type": "stream",
          "name": "stdout",
          "text": [
            "HELLO\n"
          ]
        }
      ]
    },
    {
      "cell_type": "code",
      "source": [
        "# 5. Replace the word \"apple\" with \"orange\" in the string \"I like apple\"\n",
        "print(\"I like apple\".replace(\"apple\", \"orange\"))"
      ],
      "metadata": {
        "colab": {
          "base_uri": "https://localhost:8080/"
        },
        "id": "t7rZJnc0eLfL",
        "outputId": "cf27cac7-1ef3-47d9-c7ed-d76c5683787e"
      },
      "execution_count": 8,
      "outputs": [
        {
          "output_type": "stream",
          "name": "stdout",
          "text": [
            "I like orange\n"
          ]
        }
      ]
    },
    {
      "cell_type": "code",
      "source": [
        "# 6. Create a list with numbers 1 to 5 and print it\n",
        "numbers = [1, 2, 3, 4, 5]\n",
        "print(numbers)"
      ],
      "metadata": {
        "colab": {
          "base_uri": "https://localhost:8080/"
        },
        "id": "Nx20RNGQeLto",
        "outputId": "7fc45b73-59b4-46c1-810b-b700f2bff1de"
      },
      "execution_count": 9,
      "outputs": [
        {
          "output_type": "stream",
          "name": "stdout",
          "text": [
            "[1, 2, 3, 4, 5]\n"
          ]
        }
      ]
    },
    {
      "cell_type": "code",
      "source": [
        "# 7. Append the number 10 to the list [1, 2, 3, 4]\n",
        "lst = [1, 2, 3, 4]\n",
        "lst.append(10)\n",
        "print(lst)"
      ],
      "metadata": {
        "colab": {
          "base_uri": "https://localhost:8080/"
        },
        "id": "vFlqfwmJeLx6",
        "outputId": "42963cff-6efc-4d6e-de1a-18d84bfaf217"
      },
      "execution_count": 10,
      "outputs": [
        {
          "output_type": "stream",
          "name": "stdout",
          "text": [
            "[1, 2, 3, 4, 10]\n"
          ]
        }
      ]
    },
    {
      "cell_type": "code",
      "source": [
        "# 8. Remove the number 3 from the list [1, 2, 3, 4, 5]\n",
        "lst = [1, 2, 3, 4, 5]\n",
        "lst.remove(3)\n",
        "print(lst)"
      ],
      "metadata": {
        "colab": {
          "base_uri": "https://localhost:8080/"
        },
        "id": "E3wyxbs7eL0_",
        "outputId": "087a7e6f-9f6b-4de4-ff4c-9436cfb034a8"
      },
      "execution_count": 11,
      "outputs": [
        {
          "output_type": "stream",
          "name": "stdout",
          "text": [
            "[1, 2, 4, 5]\n"
          ]
        }
      ]
    },
    {
      "cell_type": "code",
      "source": [
        "# 9. Access the second element in the list ['a', 'b', 'c', 'd']\n",
        "letters = ['a', 'b', 'c', 'd']\n",
        "print(letters[1])"
      ],
      "metadata": {
        "colab": {
          "base_uri": "https://localhost:8080/"
        },
        "id": "2YAQpFsKeL4Q",
        "outputId": "9c18388c-e943-427f-c230-f3272e01dcbe"
      },
      "execution_count": 12,
      "outputs": [
        {
          "output_type": "stream",
          "name": "stdout",
          "text": [
            "b\n"
          ]
        }
      ]
    },
    {
      "cell_type": "code",
      "source": [
        "# 10. Reverse the list [10, 20, 30, 40, 50]\n",
        "nums = [10, 20, 30, 40, 50]\n",
        "nums.reverse()\n",
        "print(nums)"
      ],
      "metadata": {
        "colab": {
          "base_uri": "https://localhost:8080/"
        },
        "id": "E9IM180beL7G",
        "outputId": "a3bb1f14-696e-4f76-eecd-9d32d9db6264"
      },
      "execution_count": 13,
      "outputs": [
        {
          "output_type": "stream",
          "name": "stdout",
          "text": [
            "[50, 40, 30, 20, 10]\n"
          ]
        }
      ]
    },
    {
      "cell_type": "code",
      "source": [
        "# 11. Create a tuple with the elements 100, 200, 300 and print it\n",
        "tup = (100, 200, 300)\n",
        "print(tup)"
      ],
      "metadata": {
        "colab": {
          "base_uri": "https://localhost:8080/"
        },
        "id": "HS847M0IfPnt",
        "outputId": "7b9fce36-2a23-453c-f67f-2b65b48baebd"
      },
      "execution_count": 14,
      "outputs": [
        {
          "output_type": "stream",
          "name": "stdout",
          "text": [
            "(100, 200, 300)\n"
          ]
        }
      ]
    },
    {
      "cell_type": "code",
      "source": [
        "# 12. Access the second-to-last element of the tuple ('red', 'green', 'blue', 'yellow')\n",
        "colors = ('red', 'green', 'blue', 'yellow')\n",
        "print(colors[-2])"
      ],
      "metadata": {
        "colab": {
          "base_uri": "https://localhost:8080/"
        },
        "id": "h3i-AuMOfP2_",
        "outputId": "5543ea23-41f5-400e-8a1f-1a730cd805d9"
      },
      "execution_count": 15,
      "outputs": [
        {
          "output_type": "stream",
          "name": "stdout",
          "text": [
            "blue\n"
          ]
        }
      ]
    },
    {
      "cell_type": "code",
      "source": [
        "# 13. Find the minimum number in the tuple (10, 20, 5, 15)\n",
        "print(min((10, 20, 5, 15)))"
      ],
      "metadata": {
        "colab": {
          "base_uri": "https://localhost:8080/"
        },
        "id": "KzMLYdHXfP8N",
        "outputId": "3d564c3e-715e-4a16-bcb0-1e6e9d4c8d03"
      },
      "execution_count": 16,
      "outputs": [
        {
          "output_type": "stream",
          "name": "stdout",
          "text": [
            "5\n"
          ]
        }
      ]
    },
    {
      "cell_type": "code",
      "source": [
        "# 14. Find the index of the element \"cat\" in the tuple ('dog', 'cat', 'rabbit')\n",
        "print(('dog', 'cat', 'rabbit').index(\"cat\"))"
      ],
      "metadata": {
        "colab": {
          "base_uri": "https://localhost:8080/"
        },
        "id": "BmITpUmifP_0",
        "outputId": "a1545420-e7c4-4110-e16c-378d8a8dbf81"
      },
      "execution_count": 17,
      "outputs": [
        {
          "output_type": "stream",
          "name": "stdout",
          "text": [
            "1\n"
          ]
        }
      ]
    },
    {
      "cell_type": "code",
      "source": [
        "# 15. Create a tuple containing three different fruits and check if \"kiwi\" is in it\n",
        "fruits = (\"apple\", \"banana\", \"mango\")\n",
        "print(\"kiwi\" in fruits)"
      ],
      "metadata": {
        "colab": {
          "base_uri": "https://localhost:8080/"
        },
        "id": "THIRFPU8fQDZ",
        "outputId": "2c761399-d44c-42a4-c851-0ab3a2a20779"
      },
      "execution_count": 18,
      "outputs": [
        {
          "output_type": "stream",
          "name": "stdout",
          "text": [
            "False\n"
          ]
        }
      ]
    },
    {
      "cell_type": "code",
      "source": [
        "# 16. Create a set with the elements 'a', 'b', 'c' and print it\n",
        "s = {'a', 'b', 'c'}\n",
        "print(s)"
      ],
      "metadata": {
        "colab": {
          "base_uri": "https://localhost:8080/"
        },
        "id": "Hdn58s3PfQG1",
        "outputId": "d974c6ea-822e-48f0-befa-e2449774eb29"
      },
      "execution_count": 19,
      "outputs": [
        {
          "output_type": "stream",
          "name": "stdout",
          "text": [
            "{'a', 'b', 'c'}\n"
          ]
        }
      ]
    },
    {
      "cell_type": "code",
      "source": [
        "# 17. Clear all elements from the set {1, 2, 3, 4, 5}\n",
        "s = {1, 2, 3, 4, 5}\n",
        "s.clear()\n",
        "print(s)"
      ],
      "metadata": {
        "colab": {
          "base_uri": "https://localhost:8080/"
        },
        "id": "DllhZIXvfQLh",
        "outputId": "5e4bf321-b38c-423a-875c-9dd34153065f"
      },
      "execution_count": 20,
      "outputs": [
        {
          "output_type": "stream",
          "name": "stdout",
          "text": [
            "set()\n"
          ]
        }
      ]
    },
    {
      "cell_type": "code",
      "source": [
        "# 18. Remove the element 4 from the set {1, 2, 3, 4}\n",
        "s = {1, 2, 3, 4}\n",
        "s.remove(4)\n",
        "print(s)"
      ],
      "metadata": {
        "colab": {
          "base_uri": "https://localhost:8080/"
        },
        "id": "NkgfROS3fRKo",
        "outputId": "f8b4e3f4-689c-484a-8d2d-266bce86abc5"
      },
      "execution_count": 21,
      "outputs": [
        {
          "output_type": "stream",
          "name": "stdout",
          "text": [
            "{1, 2, 3}\n"
          ]
        }
      ]
    },
    {
      "cell_type": "code",
      "source": [
        "# 19. Find the union of two sets {1, 2, 3} and {3, 4, 5}\n",
        "print({1, 2, 3} | {3, 4, 5})"
      ],
      "metadata": {
        "colab": {
          "base_uri": "https://localhost:8080/"
        },
        "id": "EcW44lbCfROK",
        "outputId": "c68541ad-c14b-4fe0-8db4-f898bc2a8435"
      },
      "execution_count": 22,
      "outputs": [
        {
          "output_type": "stream",
          "name": "stdout",
          "text": [
            "{1, 2, 3, 4, 5}\n"
          ]
        }
      ]
    },
    {
      "cell_type": "code",
      "source": [
        "# 20. Find the intersection of two sets {1, 2, 3} and {2, 3, 4}\n",
        "print({1, 2, 3} & {2, 3, 4})"
      ],
      "metadata": {
        "colab": {
          "base_uri": "https://localhost:8080/"
        },
        "id": "2J_wsXVlfRSB",
        "outputId": "70be13ee-7353-4969-a9ec-db1256bf8665"
      },
      "execution_count": 23,
      "outputs": [
        {
          "output_type": "stream",
          "name": "stdout",
          "text": [
            "{2, 3}\n"
          ]
        }
      ]
    },
    {
      "cell_type": "code",
      "source": [
        "# 21. Create a dictionary with the keys \"name\", \"age\", and \"city\", and print it\n",
        "person = {\"name\": \"John\", \"age\": 25, \"city\": \"New York\"}\n",
        "print(person)"
      ],
      "metadata": {
        "colab": {
          "base_uri": "https://localhost:8080/"
        },
        "id": "S9GGNGfEfRVh",
        "outputId": "ee7e795a-db0b-40d9-d40d-4db76e3e7244"
      },
      "execution_count": 24,
      "outputs": [
        {
          "output_type": "stream",
          "name": "stdout",
          "text": [
            "{'name': 'John', 'age': 25, 'city': 'New York'}\n"
          ]
        }
      ]
    },
    {
      "cell_type": "code",
      "source": [
        "# 22. Add a new key-value pair \"country\": \"USA\" to the dictionary {'name': 'John', 'age': 25}\n",
        "d = {'name': 'John', 'age': 25}\n",
        "d[\"country\"] = \"USA\"\n",
        "print(d)"
      ],
      "metadata": {
        "colab": {
          "base_uri": "https://localhost:8080/"
        },
        "id": "pI08FSN7fRZb",
        "outputId": "f1a03317-71ee-4b41-aace-4592fadfee2f"
      },
      "execution_count": 25,
      "outputs": [
        {
          "output_type": "stream",
          "name": "stdout",
          "text": [
            "{'name': 'John', 'age': 25, 'country': 'USA'}\n"
          ]
        }
      ]
    },
    {
      "cell_type": "code",
      "source": [
        "# 23. Access the value associated with the key \"name\" in the dictionary {'name': 'Alice', 'age': 30}\n",
        "print({'name': 'Alice', 'age': 30}[\"name\"])"
      ],
      "metadata": {
        "colab": {
          "base_uri": "https://localhost:8080/"
        },
        "id": "jHaTKDQofRdD",
        "outputId": "639fcc32-2ef9-4130-edcf-e887dc739412"
      },
      "execution_count": 26,
      "outputs": [
        {
          "output_type": "stream",
          "name": "stdout",
          "text": [
            "Alice\n"
          ]
        }
      ]
    },
    {
      "cell_type": "code",
      "source": [
        "# 24. Remove the key \"age\" from the dictionary {'name': 'Bob', 'age': 22, 'city': 'New York'}\n",
        "d = {'name': 'Bob', 'age': 22, 'city': 'New York'}\n",
        "d.pop(\"age\")\n",
        "print(d)"
      ],
      "metadata": {
        "colab": {
          "base_uri": "https://localhost:8080/"
        },
        "id": "4hYLv9PwfRgz",
        "outputId": "2f6e9dd8-0fa7-4e11-f819-65c57907b148"
      },
      "execution_count": 27,
      "outputs": [
        {
          "output_type": "stream",
          "name": "stdout",
          "text": [
            "{'name': 'Bob', 'city': 'New York'}\n"
          ]
        }
      ]
    },
    {
      "cell_type": "code",
      "source": [
        "# 25. Check if the key \"city\" exists in the dictionary {'name': 'Alice', 'city': 'Paris'}\n",
        "print(\"city\" in {'name': 'Alice', 'city': 'Paris'})"
      ],
      "metadata": {
        "colab": {
          "base_uri": "https://localhost:8080/"
        },
        "id": "Ta3y_TVsfRjs",
        "outputId": "74201d75-5801-4389-c42f-e38c4973730d"
      },
      "execution_count": 28,
      "outputs": [
        {
          "output_type": "stream",
          "name": "stdout",
          "text": [
            "True\n"
          ]
        }
      ]
    },
    {
      "cell_type": "code",
      "source": [
        "# 26. Create a list, a tuple, and a dictionary, and print them all\n",
        "my_list = [1, 2, 3]\n",
        "my_tuple = (4, 5, 6)\n",
        "my_dict = {\"a\": 1, \"b\": 2}\n",
        "print(my_list, my_tuple, my_dict)"
      ],
      "metadata": {
        "colab": {
          "base_uri": "https://localhost:8080/"
        },
        "id": "ljc_e2l3fRnT",
        "outputId": "01245118-29e5-4306-8b08-3167b08194c4"
      },
      "execution_count": 29,
      "outputs": [
        {
          "output_type": "stream",
          "name": "stdout",
          "text": [
            "[1, 2, 3] (4, 5, 6) {'a': 1, 'b': 2}\n"
          ]
        }
      ]
    },
    {
      "cell_type": "code",
      "source": [
        "# 27. Create a list of 5 random numbers between 1 and 100, sort it in ascending order, and print it\n",
        "import random\n",
        "rand_nums = [random.randint(1, 100) for _ in range(5)]\n",
        "rand_nums.sort()\n",
        "print(rand_nums)"
      ],
      "metadata": {
        "colab": {
          "base_uri": "https://localhost:8080/"
        },
        "id": "6QmHZ3WlfRqv",
        "outputId": "47b68558-3f28-496b-f697-3504b2aa72d6"
      },
      "execution_count": 30,
      "outputs": [
        {
          "output_type": "stream",
          "name": "stdout",
          "text": [
            "[3, 18, 23, 34, 34]\n"
          ]
        }
      ]
    },
    {
      "cell_type": "code",
      "source": [
        "# 28. Create a list with strings and print the element at the third index\n",
        "string_list = [\"apple\", \"banana\", \"cherry\", \"date\", \"elderberry\"]\n",
        "print(string_list[3])"
      ],
      "metadata": {
        "colab": {
          "base_uri": "https://localhost:8080/"
        },
        "id": "-nM1A6JreL_u",
        "outputId": "e38be968-d104-4f4b-a284-875f5bd5858c"
      },
      "execution_count": 31,
      "outputs": [
        {
          "output_type": "stream",
          "name": "stdout",
          "text": [
            "date\n"
          ]
        }
      ]
    },
    {
      "cell_type": "code",
      "source": [
        "# 29. Combine two dictionaries into one and print the result\n",
        "dict1 = {\"a\": 1, \"b\": 2}\n",
        "dict2 = {\"c\": 3, \"d\": 4}\n",
        "combined = {**dict1, **dict2}\n",
        "print(combined)"
      ],
      "metadata": {
        "colab": {
          "base_uri": "https://localhost:8080/"
        },
        "id": "pyDAOV06eMCe",
        "outputId": "e70c5772-f67a-48fd-c521-5e4f80518f3a"
      },
      "execution_count": 32,
      "outputs": [
        {
          "output_type": "stream",
          "name": "stdout",
          "text": [
            "{'a': 1, 'b': 2, 'c': 3, 'd': 4}\n"
          ]
        }
      ]
    },
    {
      "cell_type": "code",
      "source": [
        "# 30. Convert a list of strings into a set\n",
        "string_list = [\"apple\", \"banana\", \"apple\", \"cherry\"]\n",
        "string_set = set(string_list)\n",
        "print(string_set)"
      ],
      "metadata": {
        "colab": {
          "base_uri": "https://localhost:8080/"
        },
        "id": "8kL2RHumeMFM",
        "outputId": "e93d15cf-ab38-4a7b-d506-be3d0bc36741"
      },
      "execution_count": 33,
      "outputs": [
        {
          "output_type": "stream",
          "name": "stdout",
          "text": [
            "{'cherry', 'banana', 'apple'}\n"
          ]
        }
      ]
    }
  ]
}